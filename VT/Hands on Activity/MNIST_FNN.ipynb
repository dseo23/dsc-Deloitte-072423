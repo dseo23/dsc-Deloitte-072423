{
 "cells": [
  {
   "cell_type": "code",
   "execution_count": 1,
   "metadata": {},
   "outputs": [
    {
     "name": "stderr",
     "output_type": "stream",
     "text": [
      "C:\\Users\\terpek\\Anaconda3\\lib\\site-packages\\scipy\\__init__.py:146: UserWarning: A NumPy version >=1.16.5 and <1.23.0 is required for this version of SciPy (detected version 1.25.0\n",
      "  warnings.warn(f\"A NumPy version >={np_minversion} and <{np_maxversion}\"\n"
     ]
    },
    {
     "name": "stdout",
     "output_type": "stream",
     "text": [
      "Loaded\n"
     ]
    }
   ],
   "source": [
    "import keras\n",
    "from keras.models import Sequential\n",
    "from keras.layers import Dense\n",
    "print('Loaded')"
   ]
  },
  {
   "cell_type": "code",
   "execution_count": 2,
   "metadata": {},
   "outputs": [],
   "source": [
    "from keras.datasets import mnist\n",
    "datamnist = mnist.load_data()"
   ]
  },
  {
   "cell_type": "code",
   "execution_count": 3,
   "metadata": {},
   "outputs": [
    {
     "name": "stdout",
     "output_type": "stream",
     "text": [
      "(10000,)\n",
      "(10000, 10)\n",
      "784\n"
     ]
    }
   ],
   "source": [
    "(X_train2, y_train2), (X_test2, y_test2) = datamnist\n",
    "\n",
    "X_train2 = X_train2.reshape((X_train2.shape[0], 28*28)).astype('float32')\n",
    "X_test2 = X_test2.reshape((X_test2.shape[0], 28*28)).astype('float32')\n",
    "X_train2 = X_train2 / 255\n",
    "X_test2 = X_test2 / 255\n",
    "from keras.utils import np_utils\n",
    "print(y_test2.shape)\n",
    "y_train2 = np_utils.to_categorical(y_train2)\n",
    "y_test2 = np_utils.to_categorical(y_test2)\n",
    "num_classes = y_test2.shape[1]\n",
    "print(y_test2.shape)\n",
    "\n",
    "X = X_train2[0:8000,:]\n",
    "Y = y_train2[0:8000]\n",
    "X_test = X_test2[0:2000,:]\n",
    "Y_test = y_test2[0:2000]\n",
    "\n",
    "sample_size = X_train2.shape[1]\n",
    "\n",
    "print(sample_size)"
   ]
  },
  {
   "cell_type": "code",
   "execution_count": 4,
   "metadata": {},
   "outputs": [],
   "source": [
    "def DigitClassifier(X,Y,X_test,Y_test):\n",
    "    \n",
    "    #train the digit classification model\n",
    "    modelDigitClass = Sequential()\n",
    "    modelDigitClass.add(Dense(32, input_dim = 28 * 28, activation= 'relu'))\n",
    "    modelDigitClass.add(Dense(64, activation = 'relu'))\n",
    "    modelDigitClass.add(Dense(10, activation  = 'softmax'))\n",
    "    modelDigitClass.compile(loss = 'categorical_crossentropy', optimizer = 'adam', metrics = ['accuracy'])\n",
    "    \n",
    "    modelDigitClass.fit(X, Y, validation_data=(X_test,Y_test), epochs=50, batch_size=10 ,verbose=1)\n",
    "\n",
    "    scorefirstAEthenclassifier = modelDigitClass.evaluate(X_test, Y_test, verbose=1)\n",
    "   \n",
    "    print(\"Accuracy:\",scorefirstAEthenclassifier[1]) \n",
    "    \n",
    "    return modelDigitClass"
   ]
  },
  {
   "cell_type": "code",
   "execution_count": 5,
   "metadata": {},
   "outputs": [
    {
     "name": "stdout",
     "output_type": "stream",
     "text": [
      "Epoch 1/50\n",
      "800/800 [==============================] - 1s 1ms/step - loss: 0.5873 - accuracy: 0.8324 - val_loss: 0.3954 - val_accuracy: 0.8770\n",
      "Epoch 2/50\n",
      "800/800 [==============================] - 1s 1ms/step - loss: 0.2755 - accuracy: 0.9195 - val_loss: 0.3315 - val_accuracy: 0.8960\n",
      "Epoch 3/50\n",
      "800/800 [==============================] - 1s 1ms/step - loss: 0.2138 - accuracy: 0.9373 - val_loss: 0.3022 - val_accuracy: 0.9020\n",
      "Epoch 4/50\n",
      "800/800 [==============================] - 1s 1ms/step - loss: 0.1729 - accuracy: 0.9491 - val_loss: 0.2638 - val_accuracy: 0.9120\n",
      "Epoch 5/50\n",
      "800/800 [==============================] - 1s 2ms/step - loss: 0.1467 - accuracy: 0.9556 - val_loss: 0.3198 - val_accuracy: 0.8990\n",
      "Epoch 6/50\n",
      "800/800 [==============================] - 1s 1ms/step - loss: 0.1189 - accuracy: 0.9665 - val_loss: 0.2557 - val_accuracy: 0.9220\n",
      "Epoch 7/50\n",
      "800/800 [==============================] - 1s 1ms/step - loss: 0.0967 - accuracy: 0.9700 - val_loss: 0.2501 - val_accuracy: 0.9230\n",
      "Epoch 8/50\n",
      "800/800 [==============================] - 1s 1ms/step - loss: 0.0851 - accuracy: 0.9751 - val_loss: 0.2387 - val_accuracy: 0.9180\n",
      "Epoch 9/50\n",
      "800/800 [==============================] - 1s 1ms/step - loss: 0.0686 - accuracy: 0.9794 - val_loss: 0.2482 - val_accuracy: 0.9230\n",
      "Epoch 10/50\n",
      "800/800 [==============================] - 1s 1ms/step - loss: 0.0610 - accuracy: 0.9824 - val_loss: 0.2709 - val_accuracy: 0.9210\n",
      "Epoch 11/50\n",
      "800/800 [==============================] - 1s 1ms/step - loss: 0.0473 - accuracy: 0.9862 - val_loss: 0.2494 - val_accuracy: 0.9200\n",
      "Epoch 12/50\n",
      "800/800 [==============================] - 1s 1ms/step - loss: 0.0433 - accuracy: 0.9869 - val_loss: 0.2844 - val_accuracy: 0.9240\n",
      "Epoch 13/50\n",
      "800/800 [==============================] - 1s 1ms/step - loss: 0.0394 - accuracy: 0.9879 - val_loss: 0.3038 - val_accuracy: 0.9200\n",
      "Epoch 14/50\n",
      "800/800 [==============================] - 1s 1ms/step - loss: 0.0314 - accuracy: 0.9904 - val_loss: 0.3302 - val_accuracy: 0.9240\n",
      "Epoch 15/50\n",
      "800/800 [==============================] - 1s 1ms/step - loss: 0.0235 - accuracy: 0.9925 - val_loss: 0.3212 - val_accuracy: 0.9300\n",
      "Epoch 16/50\n",
      "800/800 [==============================] - 1s 1ms/step - loss: 0.0312 - accuracy: 0.9901 - val_loss: 0.2881 - val_accuracy: 0.9350\n",
      "Epoch 17/50\n",
      "800/800 [==============================] - 1s 1ms/step - loss: 0.0237 - accuracy: 0.9926 - val_loss: 0.3217 - val_accuracy: 0.9240\n",
      "Epoch 18/50\n",
      "800/800 [==============================] - 1s 1ms/step - loss: 0.0153 - accuracy: 0.9956 - val_loss: 0.2823 - val_accuracy: 0.9350\n",
      "Epoch 19/50\n",
      "800/800 [==============================] - 1s 1ms/step - loss: 0.0197 - accuracy: 0.9939 - val_loss: 0.7116 - val_accuracy: 0.8760\n",
      "Epoch 20/50\n",
      "800/800 [==============================] - 1s 1ms/step - loss: 0.0329 - accuracy: 0.9895 - val_loss: 0.3809 - val_accuracy: 0.9240\n",
      "Epoch 21/50\n",
      "800/800 [==============================] - 1s 1ms/step - loss: 0.0116 - accuracy: 0.9965 - val_loss: 0.3447 - val_accuracy: 0.9340\n",
      "Epoch 22/50\n",
      "800/800 [==============================] - 1s 1ms/step - loss: 0.0192 - accuracy: 0.9956 - val_loss: 0.4225 - val_accuracy: 0.9310\n",
      "Epoch 23/50\n",
      "800/800 [==============================] - 1s 1ms/step - loss: 0.0121 - accuracy: 0.9967 - val_loss: 0.3979 - val_accuracy: 0.9270\n",
      "Epoch 24/50\n",
      "800/800 [==============================] - 1s 1ms/step - loss: 0.0158 - accuracy: 0.9951 - val_loss: 0.3669 - val_accuracy: 0.9320\n",
      "Epoch 25/50\n",
      "800/800 [==============================] - 1s 1ms/step - loss: 0.0146 - accuracy: 0.9950 - val_loss: 0.4407 - val_accuracy: 0.9170\n",
      "Epoch 26/50\n",
      "800/800 [==============================] - 1s 1ms/step - loss: 0.0091 - accuracy: 0.9980 - val_loss: 0.5121 - val_accuracy: 0.9140\n",
      "Epoch 27/50\n",
      "800/800 [==============================] - 1s 1ms/step - loss: 0.0164 - accuracy: 0.9955 - val_loss: 0.4643 - val_accuracy: 0.9140\n",
      "Epoch 28/50\n",
      "800/800 [==============================] - 1s 1ms/step - loss: 0.0108 - accuracy: 0.9962 - val_loss: 0.3797 - val_accuracy: 0.9310\n",
      "Epoch 29/50\n",
      "800/800 [==============================] - 1s 1ms/step - loss: 0.0200 - accuracy: 0.9937 - val_loss: 0.3844 - val_accuracy: 0.9350\n",
      "Epoch 30/50\n",
      "800/800 [==============================] - 1s 1ms/step - loss: 0.0068 - accuracy: 0.9979 - val_loss: 0.4181 - val_accuracy: 0.9300\n",
      "Epoch 31/50\n",
      "800/800 [==============================] - 1s 1ms/step - loss: 8.5649e-04 - accuracy: 1.0000 - val_loss: 0.4160 - val_accuracy: 0.9320\n",
      "Epoch 32/50\n",
      "800/800 [==============================] - 1s 1ms/step - loss: 3.7953e-04 - accuracy: 1.0000 - val_loss: 0.4077 - val_accuracy: 0.9300\n",
      "Epoch 33/50\n",
      "800/800 [==============================] - 1s 1ms/step - loss: 2.6100e-04 - accuracy: 1.0000 - val_loss: 0.4113 - val_accuracy: 0.9340\n",
      "Epoch 34/50\n",
      "800/800 [==============================] - 1s 1ms/step - loss: 1.9504e-04 - accuracy: 1.0000 - val_loss: 0.4195 - val_accuracy: 0.9350\n",
      "Epoch 35/50\n",
      "800/800 [==============================] - 1s 1ms/step - loss: 1.5236e-04 - accuracy: 1.0000 - val_loss: 0.4249 - val_accuracy: 0.9320\n",
      "Epoch 36/50\n",
      "800/800 [==============================] - 1s 1ms/step - loss: 1.3241e-04 - accuracy: 1.0000 - val_loss: 0.4303 - val_accuracy: 0.9340\n",
      "Epoch 37/50\n",
      "800/800 [==============================] - 1s 1ms/step - loss: 1.8220e-04 - accuracy: 1.0000 - val_loss: 0.4828 - val_accuracy: 0.9360\n",
      "Epoch 38/50\n",
      "800/800 [==============================] - 1s 1ms/step - loss: 0.0765 - accuracy: 0.9809 - val_loss: 0.4943 - val_accuracy: 0.9300\n",
      "Epoch 39/50\n",
      "800/800 [==============================] - 1s 1ms/step - loss: 0.0102 - accuracy: 0.9967 - val_loss: 0.4563 - val_accuracy: 0.9310\n",
      "Epoch 40/50\n",
      "800/800 [==============================] - 1s 1ms/step - loss: 0.0029 - accuracy: 0.9991 - val_loss: 0.4253 - val_accuracy: 0.9360\n",
      "Epoch 41/50\n",
      "800/800 [==============================] - 1s 1ms/step - loss: 5.1350e-04 - accuracy: 1.0000 - val_loss: 0.4405 - val_accuracy: 0.9340\n",
      "Epoch 42/50\n",
      "800/800 [==============================] - 1s 1ms/step - loss: 0.0173 - accuracy: 0.9944 - val_loss: 0.4388 - val_accuracy: 0.9300\n",
      "Epoch 43/50\n",
      "800/800 [==============================] - 1s 1ms/step - loss: 0.0094 - accuracy: 0.9969 - val_loss: 0.4469 - val_accuracy: 0.9310\n",
      "Epoch 44/50\n",
      "800/800 [==============================] - 1s 1ms/step - loss: 0.0018 - accuracy: 0.9996 - val_loss: 0.4459 - val_accuracy: 0.9370\n",
      "Epoch 45/50\n",
      "800/800 [==============================] - 1s 1ms/step - loss: 0.0292 - accuracy: 0.9921 - val_loss: 0.4961 - val_accuracy: 0.9330\n",
      "Epoch 46/50\n",
      "800/800 [==============================] - 1s 1ms/step - loss: 0.0099 - accuracy: 0.9969 - val_loss: 0.5584 - val_accuracy: 0.9260\n",
      "Epoch 47/50\n",
      "800/800 [==============================] - 1s 1ms/step - loss: 0.0115 - accuracy: 0.9967 - val_loss: 0.5468 - val_accuracy: 0.9310\n",
      "Epoch 48/50\n",
      "800/800 [==============================] - 1s 1ms/step - loss: 0.0147 - accuracy: 0.9966 - val_loss: 0.5098 - val_accuracy: 0.9330\n",
      "Epoch 49/50\n",
      "800/800 [==============================] - 1s 1ms/step - loss: 0.0075 - accuracy: 0.9975 - val_loss: 0.5417 - val_accuracy: 0.9310\n",
      "Epoch 50/50\n",
      "800/800 [==============================] - 1s 1ms/step - loss: 0.0192 - accuracy: 0.9931 - val_loss: 0.5291 - val_accuracy: 0.9370\n",
      "32/32 [==============================] - 0s 885us/step - loss: 0.5291 - accuracy: 0.9370\n",
      "Accuracy: 0.9369999766349792\n"
     ]
    }
   ],
   "source": [
    "modelDigitLoss = DigitClassifier(X,Y,X_test[0:1000],Y_test[0:1000])"
   ]
  },
  {
   "cell_type": "code",
   "execution_count": 11,
   "metadata": {},
   "outputs": [
    {
     "name": "stdout",
     "output_type": "stream",
     "text": [
      "Model: \"sequential_1\"\n",
      "_________________________________________________________________\n",
      " Layer (type)                Output Shape              Param #   \n",
      "=================================================================\n",
      " dense (Dense)               (None, 32)                25120     \n",
      "                                                                 \n",
      " dense_1 (Dense)             (None, 64)                2112      \n",
      "                                                                 \n",
      " dense_2 (Dense)             (None, 10)                650       \n",
      "                                                                 \n",
      "=================================================================\n",
      "Total params: 27,882\n",
      "Trainable params: 27,882\n",
      "Non-trainable params: 0\n",
      "_________________________________________________________________\n"
     ]
    }
   ],
   "source": [
    "modelDigitLoss.summary()"
   ]
  },
  {
   "cell_type": "code",
   "execution_count": null,
   "metadata": {},
   "outputs": [],
   "source": []
  },
  {
   "cell_type": "code",
   "execution_count": null,
   "metadata": {},
   "outputs": [],
   "source": []
  },
  {
   "cell_type": "code",
   "execution_count": null,
   "metadata": {},
   "outputs": [],
   "source": []
  },
  {
   "cell_type": "code",
   "execution_count": null,
   "metadata": {},
   "outputs": [],
   "source": []
  },
  {
   "cell_type": "code",
   "execution_count": null,
   "metadata": {},
   "outputs": [],
   "source": []
  }
 ],
 "metadata": {
  "kernelspec": {
   "display_name": "Python 3",
   "language": "python",
   "name": "python3"
  },
  "language_info": {
   "codemirror_mode": {
    "name": "ipython",
    "version": 3
   },
   "file_extension": ".py",
   "mimetype": "text/x-python",
   "name": "python",
   "nbconvert_exporter": "python",
   "pygments_lexer": "ipython3",
   "version": "3.8.5"
  }
 },
 "nbformat": 4,
 "nbformat_minor": 5
}
