{
 "cells": [
  {
   "cell_type": "code",
   "execution_count": 9,
   "metadata": {},
   "outputs": [],
   "source": [
    "import numpy as np\n",
    "import tensorflow as tf\n",
    "from keras.layers import Input, Dense, GaussianNoise, BatchNormalization, Lambda, LayerNormalization\n",
    "from keras.layers.core import Reshape,Dense,Dropout,Activation,Flatten\n",
    "from keras.layers.convolutional import Convolution2D, MaxPooling2D, ZeroPadding2D\n",
    "from keras.models import Model\n",
    "from keras import regularizers\n",
    "from tensorflow.keras.models import Sequential\n",
    "from tensorflow.keras.optimizers import SGD, Adam\n",
    "from tensorflow.keras.utils import to_categorical\n",
    "import keras.models as models\n",
    "import random as rn\n",
    "from keras import backend as K\n",
    "from keras.models import load_model\n",
    "import matplotlib.pyplot as plt\n",
    "from numpy import loadtxt\n",
    "import keras\n",
    "from keras.models import Sequential\n",
    "from keras.layers import Dense\n",
    "from keras.callbacks import ModelCheckpoint\n",
    "from keras.utils import np_utils"
   ]
  },
  {
   "cell_type": "code",
   "execution_count": 10,
   "metadata": {},
   "outputs": [],
   "source": [
    "from keras.datasets import mnist\n",
    "datamnist = mnist.load_data()"
   ]
  },
  {
   "cell_type": "code",
   "execution_count": 11,
   "metadata": {},
   "outputs": [
    {
     "name": "stdout",
     "output_type": "stream",
     "text": [
      "(10000,)\n",
      "(10000, 10)\n",
      "784\n"
     ]
    }
   ],
   "source": [
    "(X_train2, y_train2), (X_test2, y_test2) = datamnist\n",
    "\n",
    "X_train2 = X_train2.reshape((X_train2.shape[0], 28*28)).astype('float32')\n",
    "X_test2 = X_test2.reshape((X_test2.shape[0], 28*28)).astype('float32')\n",
    "X_train2 = X_train2 / 255\n",
    "X_test2 = X_test2 / 255\n",
    "from keras.utils import np_utils\n",
    "print(y_test2.shape)\n",
    "y_train2 = np_utils.to_categorical(y_train2)\n",
    "y_test2 = np_utils.to_categorical(y_test2)\n",
    "num_classes = y_test2.shape[1]\n",
    "print(y_test2.shape)\n",
    "\n",
    "X = X_train2[0:8000,:]\n",
    "Y = y_train2[0:8000]\n",
    "X_test = X_test2[0:2000,:]\n",
    "Y_test = y_test2[0:2000]\n",
    "\n",
    "sample_size = X_train2.shape[1]\n",
    "\n",
    "print(sample_size)"
   ]
  },
  {
   "cell_type": "code",
   "execution_count": 12,
   "metadata": {},
   "outputs": [],
   "source": [
    "def DigitClassifier(X,Y,X_test,Y_test):\n",
    "    \n",
    "    #train the digit classification model\n",
    "    modelDigitClass = Sequential()\n",
    "    modelDigitClass.add(Dense(4, input_dim = 28 * 28, activation= 'tanh'))\n",
    "    modelDigitClass.add(Dense(4, activation = 'tanh'))\n",
    "    modelDigitClass.add(Dense(10, activation  = 'linear'))\n",
    "    modelDigitClass.compile(loss = 'categorical_crossentropy', optimizer = 'adam', metrics = ['accuracy'])\n",
    "    \n",
    "    modelDigitClass.fit(X, Y, validation_data=(X_test,Y_test), epochs=50, batch_size=10 ,verbose=1)\n",
    "\n",
    "    scorefirstAEthenclassifier = modelDigitClass.evaluate(X_test, Y_test, verbose=1)\n",
    "   \n",
    "    print(\"Accuracy:\",scorefirstAEthenclassifier[1]) \n",
    "    \n",
    "    return modelDigitClass"
   ]
  },
  {
   "cell_type": "code",
   "execution_count": 5,
   "metadata": {},
   "outputs": [
    {
     "name": "stdout",
     "output_type": "stream",
     "text": [
      "Epoch 1/50\n",
      "800/800 [==============================] - 1s 902us/step - loss: 7.8590 - accuracy: 0.1026 - val_loss: 8.1406 - val_accuracy: 0.1090\n",
      "Epoch 2/50\n",
      "800/800 [==============================] - 1s 723us/step - loss: 8.4157 - accuracy: 0.0966 - val_loss: 8.0920 - val_accuracy: 0.1130\n",
      "Epoch 3/50\n",
      "800/800 [==============================] - 1s 734us/step - loss: 8.4559 - accuracy: 0.0971 - val_loss: 8.0920 - val_accuracy: 0.1130\n",
      "Epoch 4/50\n",
      "800/800 [==============================] - 1s 672us/step - loss: 8.4560 - accuracy: 0.0971 - val_loss: 8.0920 - val_accuracy: 0.1130\n",
      "Epoch 5/50\n",
      "800/800 [==============================] - 1s 690us/step - loss: 8.4560 - accuracy: 0.0971 - val_loss: 8.0920 - val_accuracy: 0.1130\n",
      "Epoch 6/50\n",
      "800/800 [==============================] - 1s 669us/step - loss: 8.4560 - accuracy: 0.0971 - val_loss: 8.0920 - val_accuracy: 0.1130\n",
      "Epoch 7/50\n",
      "800/800 [==============================] - 1s 673us/step - loss: 8.4560 - accuracy: 0.0971 - val_loss: 8.0920 - val_accuracy: 0.1130\n",
      "Epoch 8/50\n",
      "800/800 [==============================] - 1s 702us/step - loss: 8.4559 - accuracy: 0.0971 - val_loss: 8.0920 - val_accuracy: 0.1130\n",
      "Epoch 9/50\n",
      "800/800 [==============================] - 1s 742us/step - loss: 8.4559 - accuracy: 0.0971 - val_loss: 8.0920 - val_accuracy: 0.1130\n",
      "Epoch 10/50\n",
      "800/800 [==============================] - 1s 737us/step - loss: 8.4559 - accuracy: 0.0971 - val_loss: 8.0920 - val_accuracy: 0.1130\n",
      "Epoch 11/50\n",
      "800/800 [==============================] - 1s 677us/step - loss: 8.4559 - accuracy: 0.0971 - val_loss: 8.0920 - val_accuracy: 0.1130\n",
      "Epoch 12/50\n",
      "800/800 [==============================] - 1s 686us/step - loss: 8.4559 - accuracy: 0.0971 - val_loss: 8.0920 - val_accuracy: 0.1130\n",
      "Epoch 13/50\n",
      "800/800 [==============================] - 1s 812us/step - loss: 8.4559 - accuracy: 0.0971 - val_loss: 8.0920 - val_accuracy: 0.1130\n",
      "Epoch 14/50\n",
      "800/800 [==============================] - 1s 727us/step - loss: 8.4560 - accuracy: 0.0971 - val_loss: 8.0920 - val_accuracy: 0.1130\n",
      "Epoch 15/50\n",
      "800/800 [==============================] - 1s 707us/step - loss: 8.4560 - accuracy: 0.0971 - val_loss: 8.0920 - val_accuracy: 0.1130\n",
      "Epoch 16/50\n",
      "800/800 [==============================] - 1s 745us/step - loss: 8.4560 - accuracy: 0.0971 - val_loss: 8.0920 - val_accuracy: 0.1130\n",
      "Epoch 17/50\n",
      "800/800 [==============================] - 1s 686us/step - loss: 8.4559 - accuracy: 0.0971 - val_loss: 8.0920 - val_accuracy: 0.1130\n",
      "Epoch 18/50\n",
      "800/800 [==============================] - 1s 739us/step - loss: 8.4559 - accuracy: 0.0971 - val_loss: 8.0920 - val_accuracy: 0.1130\n",
      "Epoch 19/50\n",
      "800/800 [==============================] - 1s 774us/step - loss: 8.4560 - accuracy: 0.0971 - val_loss: 8.0920 - val_accuracy: 0.1130\n",
      "Epoch 20/50\n",
      "800/800 [==============================] - 1s 904us/step - loss: 8.4559 - accuracy: 0.0971 - val_loss: 8.0920 - val_accuracy: 0.1130\n",
      "Epoch 21/50\n",
      "800/800 [==============================] - 1s 891us/step - loss: 8.4560 - accuracy: 0.0971 - val_loss: 8.0920 - val_accuracy: 0.1130\n",
      "Epoch 22/50\n",
      "800/800 [==============================] - 1s 753us/step - loss: 8.4560 - accuracy: 0.0971 - val_loss: 8.0920 - val_accuracy: 0.1130\n",
      "Epoch 23/50\n",
      "800/800 [==============================] - 1s 768us/step - loss: 8.4559 - accuracy: 0.0971 - val_loss: 8.0920 - val_accuracy: 0.1130\n",
      "Epoch 24/50\n",
      "800/800 [==============================] - 1s 689us/step - loss: 8.4560 - accuracy: 0.0971 - val_loss: 8.0920 - val_accuracy: 0.1130\n",
      "Epoch 25/50\n",
      "800/800 [==============================] - 1s 736us/step - loss: 8.4559 - accuracy: 0.0971 - val_loss: 8.0920 - val_accuracy: 0.1130\n",
      "Epoch 26/50\n",
      "800/800 [==============================] - 1s 864us/step - loss: 8.4559 - accuracy: 0.0971 - val_loss: 8.0920 - val_accuracy: 0.1130\n",
      "Epoch 27/50\n",
      "800/800 [==============================] - 1s 745us/step - loss: 8.4559 - accuracy: 0.0971 - val_loss: 8.0920 - val_accuracy: 0.1130\n",
      "Epoch 28/50\n",
      "800/800 [==============================] - 1s 701us/step - loss: 8.4559 - accuracy: 0.0971 - val_loss: 8.0920 - val_accuracy: 0.1130\n",
      "Epoch 29/50\n",
      "800/800 [==============================] - 1s 703us/step - loss: 8.4560 - accuracy: 0.0971 - val_loss: 8.0920 - val_accuracy: 0.1130\n",
      "Epoch 30/50\n",
      "800/800 [==============================] - 1s 714us/step - loss: 8.4560 - accuracy: 0.0971 - val_loss: 8.0920 - val_accuracy: 0.1130\n",
      "Epoch 31/50\n",
      "800/800 [==============================] - 1s 808us/step - loss: 8.4559 - accuracy: 0.0971 - val_loss: 8.0920 - val_accuracy: 0.1130\n",
      "Epoch 32/50\n",
      "800/800 [==============================] - 1s 852us/step - loss: 8.4559 - accuracy: 0.0971 - val_loss: 8.0920 - val_accuracy: 0.1130\n",
      "Epoch 33/50\n",
      "800/800 [==============================] - 1s 667us/step - loss: 8.4559 - accuracy: 0.0971 - val_loss: 8.0920 - val_accuracy: 0.1130\n",
      "Epoch 34/50\n",
      "800/800 [==============================] - 1s 678us/step - loss: 8.4560 - accuracy: 0.0971 - val_loss: 8.0920 - val_accuracy: 0.1130\n",
      "Epoch 35/50\n",
      "800/800 [==============================] - 1s 726us/step - loss: 8.4559 - accuracy: 0.0971 - val_loss: 8.0920 - val_accuracy: 0.1130\n",
      "Epoch 36/50\n",
      "800/800 [==============================] - 1s 674us/step - loss: 8.4559 - accuracy: 0.0971 - val_loss: 8.0920 - val_accuracy: 0.1130\n",
      "Epoch 37/50\n",
      "800/800 [==============================] - 1s 688us/step - loss: 8.4560 - accuracy: 0.0971 - val_loss: 8.0920 - val_accuracy: 0.1130\n",
      "Epoch 38/50\n",
      "800/800 [==============================] - 1s 665us/step - loss: 8.4560 - accuracy: 0.0971 - val_loss: 8.0920 - val_accuracy: 0.1130\n",
      "Epoch 39/50\n",
      "800/800 [==============================] - 1s 698us/step - loss: 8.4559 - accuracy: 0.0971 - val_loss: 8.0920 - val_accuracy: 0.1130\n",
      "Epoch 40/50\n",
      "800/800 [==============================] - 1s 701us/step - loss: 8.4559 - accuracy: 0.0971 - val_loss: 8.0920 - val_accuracy: 0.1130\n",
      "Epoch 41/50\n",
      "800/800 [==============================] - 1s 691us/step - loss: 8.4560 - accuracy: 0.0971 - val_loss: 8.0920 - val_accuracy: 0.1130\n",
      "Epoch 42/50\n",
      "800/800 [==============================] - 1s 670us/step - loss: 8.4559 - accuracy: 0.0971 - val_loss: 8.0920 - val_accuracy: 0.1130\n",
      "Epoch 43/50\n",
      "800/800 [==============================] - 1s 676us/step - loss: 8.4560 - accuracy: 0.0971 - val_loss: 8.0920 - val_accuracy: 0.1130\n",
      "Epoch 44/50\n",
      "800/800 [==============================] - 1s 676us/step - loss: 8.4559 - accuracy: 0.0971 - val_loss: 8.0920 - val_accuracy: 0.1130\n",
      "Epoch 45/50\n",
      "800/800 [==============================] - 1s 656us/step - loss: 8.4559 - accuracy: 0.0971 - val_loss: 8.0920 - val_accuracy: 0.1130\n",
      "Epoch 46/50\n",
      "800/800 [==============================] - 1s 668us/step - loss: 8.4559 - accuracy: 0.0971 - val_loss: 8.0920 - val_accuracy: 0.1130\n",
      "Epoch 47/50\n",
      "800/800 [==============================] - 1s 673us/step - loss: 8.4560 - accuracy: 0.0971 - val_loss: 8.0920 - val_accuracy: 0.1130\n",
      "Epoch 48/50\n",
      "800/800 [==============================] - 1s 654us/step - loss: 8.4559 - accuracy: 0.0971 - val_loss: 8.0920 - val_accuracy: 0.1130\n",
      "Epoch 49/50\n",
      "800/800 [==============================] - 1s 664us/step - loss: 8.4559 - accuracy: 0.0971 - val_loss: 8.0920 - val_accuracy: 0.1130\n",
      "Epoch 50/50\n",
      "800/800 [==============================] - 1s 750us/step - loss: 8.4559 - accuracy: 0.0971 - val_loss: 8.0920 - val_accuracy: 0.1130\n",
      "32/32 [==============================] - 0s 969us/step - loss: 8.0920 - accuracy: 0.1130\n",
      "Accuracy: 0.11299999803304672\n"
     ]
    }
   ],
   "source": [
    "modelDigitLoss = DigitClassifier(X,Y,X_test[0:1000],Y_test[0:1000])"
   ]
  },
  {
   "cell_type": "code",
   "execution_count": 13,
   "metadata": {},
   "outputs": [
    {
     "name": "stdout",
     "output_type": "stream",
     "text": [
      "Model: \"sequential\"\n",
      "_________________________________________________________________\n",
      "Layer (type)                 Output Shape              Param #   \n",
      "=================================================================\n",
      "dense (Dense)                (None, 4)                 3140      \n",
      "_________________________________________________________________\n",
      "dense_1 (Dense)              (None, 4)                 20        \n",
      "_________________________________________________________________\n",
      "dense_2 (Dense)              (None, 10)                50        \n",
      "=================================================================\n",
      "Total params: 3,210\n",
      "Trainable params: 3,210\n",
      "Non-trainable params: 0\n",
      "_________________________________________________________________\n"
     ]
    }
   ],
   "source": [
    "modelDigitLoss.summary()"
   ]
  },
  {
   "cell_type": "code",
   "execution_count": null,
   "metadata": {},
   "outputs": [],
   "source": []
  },
  {
   "cell_type": "code",
   "execution_count": null,
   "metadata": {},
   "outputs": [],
   "source": []
  },
  {
   "cell_type": "code",
   "execution_count": null,
   "metadata": {},
   "outputs": [],
   "source": []
  },
  {
   "cell_type": "code",
   "execution_count": null,
   "metadata": {},
   "outputs": [],
   "source": []
  },
  {
   "cell_type": "code",
   "execution_count": null,
   "metadata": {},
   "outputs": [],
   "source": []
  }
 ],
 "metadata": {
  "kernelspec": {
   "display_name": "Python 3",
   "language": "python",
   "name": "python3"
  },
  "language_info": {
   "codemirror_mode": {
    "name": "ipython",
    "version": 3
   },
   "file_extension": ".py",
   "mimetype": "text/x-python",
   "name": "python",
   "nbconvert_exporter": "python",
   "pygments_lexer": "ipython3",
   "version": "3.8.5"
  }
 },
 "nbformat": 4,
 "nbformat_minor": 5
}
