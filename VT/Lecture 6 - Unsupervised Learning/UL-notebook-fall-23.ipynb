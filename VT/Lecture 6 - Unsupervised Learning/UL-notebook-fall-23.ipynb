{
 "cells": [
  {
   "cell_type": "markdown",
   "id": "3520624d-63bb-432d-a76f-7243907ad095",
   "metadata": {},
   "source": [
    "# Unsupervised Learning"
   ]
  },
  {
   "cell_type": "markdown",
   "id": "7c28ab5c-d1ae-4515-b316-f36d2455f271",
   "metadata": {},
   "source": [
    "## Import Packages and Load Data\n",
    "\n",
    "https://archive.ics.uci.edu/ml/datasets/Glass+Identification"
   ]
  },
  {
   "cell_type": "code",
   "execution_count": null,
   "id": "7bf2f3af-b9ee-4bfb-96a4-8c0c2c2bf217",
   "metadata": {},
   "outputs": [],
   "source": [
    "# import\n",
    "import numpy as np\n",
    "import pandas as pd\n",
    "import seaborn as sns\n",
    "import matplotlib.pyplot as plt\n",
    "\n",
    "from sklearn import datasets, metrics\n",
    "from sklearn.decomposition import PCA\n",
    "from sklearn.manifold import TSNE\n",
    "from sklearn.cluster import KMeans, DBSCAN\n",
    "from sklearn.mixture import GaussianMixture\n",
    "from sklearn.ensemble import RandomForestClassifier\n",
    "from sklearn.tree import DecisionTreeClassifier\n",
    "from sklearn.model_selection import train_test_split\n",
    "from scipy.cluster.hierarchy import dendrogram, linkage, fcluster"
   ]
  },
  {
   "cell_type": "markdown",
   "id": "267018e6-e18b-45ce-84a6-a9232f839e0b",
   "metadata": {},
   "source": [
    "## Unsupervised vs. Supervised Learning "
   ]
  },
  {
   "cell_type": "code",
   "execution_count": null,
   "id": "fef198a5-6d36-4194-9f40-bf845f816c23",
   "metadata": {},
   "outputs": [],
   "source": [
    "# load data\n",
    "data = datasets.load_wine(as_frame=True)\n",
    "df = data[\"frame\"]\n",
    "labels = data[\"target\"]"
   ]
  },
  {
   "cell_type": "code",
   "execution_count": null,
   "id": "1bdff03c-4679-44d8-a2c2-addc8352a921",
   "metadata": {},
   "outputs": [],
   "source": [
    "# inspect\n",
    "df.sample(5)"
   ]
  },
  {
   "cell_type": "code",
   "execution_count": null,
   "id": "94bfb30a-4134-43a4-a1fd-10a4d83edd21",
   "metadata": {},
   "outputs": [],
   "source": [
    "# plot data\n",
    "plt.figure(figsize=(8, 5))\n",
    "sns.scatterplot(data=df, x=\"flavanoids\", y=\"proline\",\n",
    "                hue=labels, palette=\"tab10\")\n",
    "plt.show()"
   ]
  },
  {
   "cell_type": "code",
   "execution_count": null,
   "id": "29d83d5b-e9f3-4b2b-883d-2153923e6791",
   "metadata": {},
   "outputs": [],
   "source": [
    "# you can change the size of the test set as percentage of the samples\n",
    "test_size = 0.50  # try changing this value\n",
    "y = df[\"target\"]\n",
    "X = df.drop(\"target\", axis=1)\n",
    "# split data\n",
    "X_train, X_test, y_train, y_test = train_test_split(X, y, test_size=test_size, random_state=42)"
   ]
  },
  {
   "cell_type": "code",
   "execution_count": null,
   "id": "4ee7f68d-73c8-4394-a930-866c20b6fafe",
   "metadata": {},
   "outputs": [],
   "source": [
    "max_depth = 5  # try changing this value\n",
    "min_samples_leaf = 2  # try changing this value\n",
    "# create decision tree model\n",
    "dt = DecisionTreeClassifier(max_depth=max_depth,\n",
    "                            min_samples_leaf=min_samples_leaf)\n",
    "# fit to the data\n",
    "dt.fit(X_train, y_train)\n",
    "# evaluate on test data\n",
    "y_pred = dt.predict(X_test)\n",
    "metrics.accuracy_score(y_test, y_pred)"
   ]
  },
  {
   "cell_type": "code",
   "execution_count": null,
   "id": "72fb7f56-7267-46f5-b288-5e19788a9639",
   "metadata": {},
   "outputs": [],
   "source": [
    "# create the cluster model\n",
    "n_clusters = 3  # try changing this value\n",
    "km = KMeans(n_clusters=n_clusters).fit(X)\n",
    "# cluster the data\n",
    "y_pred = km.predict(X)\n",
    "# compare the clusters to the actual lobels\n",
    "metrics.accuracy_score(y, y_pred)"
   ]
  },
  {
   "cell_type": "code",
   "execution_count": null,
   "id": "19f9da22-8739-409c-843f-52f7584fc7ec",
   "metadata": {},
   "outputs": [],
   "source": [
    "# plot data, look at how the clusters vary in the data\n",
    "# what does that tell us about the data?\n",
    "plt.figure(figsize=(8, 5))\n",
    "sns.scatterplot(data=df, x=\"flavanoids\", y=\"proline\",\n",
    "                hue=y_pred, palette=\"tab10\")\n",
    "plt.show()"
   ]
  },
  {
   "cell_type": "code",
   "execution_count": null,
   "id": "ffe28b09-f21d-4f60-8043-6f52a9e43b92",
   "metadata": {},
   "outputs": [],
   "source": [
    "# look at more of the features compare with proline and colored by the clusters\n",
    "# again, what does this tell use about the data?\n",
    "df_clusters = X.assign(cluster = y_pred)\n",
    "sns.pairplot(data=df_clusters, y_vars=\"proline\", hue=\"cluster\", palette=\"tab10\")"
   ]
  },
  {
   "cell_type": "markdown",
   "id": "bf5d1d4b-e867-42ca-a779-2bd685c10324",
   "metadata": {},
   "source": [
    "## Dimensionality Reduction"
   ]
  },
  {
   "cell_type": "code",
   "execution_count": null,
   "id": "355c6ad2-1e24-4ef8-bb0e-b4ee071d6875",
   "metadata": {},
   "outputs": [],
   "source": [
    "# PCA\n",
    "# choose how many feature to reduce to\n",
    "n_components = 2  # try changing this value\n",
    "pca = PCA(n_components=n_components)\n",
    "pca.fit(X)\n",
    "pca_emb  = pca.transform(X)\n",
    "# sum of explained variance ration tells us how much of the variation in the\n",
    "# data is explained by the PCA dimensions\n",
    "pca.explained_variance_ratio_.sum()"
   ]
  },
  {
   "cell_type": "code",
   "execution_count": null,
   "id": "eb5b9308-e22c-492f-baa6-8702496e062f",
   "metadata": {},
   "outputs": [],
   "source": [
    "df.columns"
   ]
  },
  {
   "cell_type": "code",
   "execution_count": null,
   "id": "ff4a7cf8-678a-4f51-a756-660fa6376a9f",
   "metadata": {},
   "outputs": [],
   "source": [
    "# now let's plot it\n",
    "# try different features for the colormap\n",
    "# alcohol', 'malic_acid', 'ash', 'alcalinity_of_ash', 'magnesium',\n",
    "# 'total_phenols', 'flavanoids', 'nonflavanoid_phenols',\n",
    "# 'proanthocyanins', 'color_intensity', 'hue', \n",
    "# 'od280/od315_of_diluted_wines', 'proline'\n",
    "feature = \"ash\"  # change this value\n",
    "plt.figure(figsize=(13, 8))\n",
    "sns.scatterplot(x=pca_emb[:,0], y=pca_emb[:,1],\n",
    "                hue=df[feature],\n",
    "                palette=\"viridis\") "
   ]
  },
  {
   "cell_type": "code",
   "execution_count": null,
   "id": "b4c5ed23-b4ba-4b72-a4ce-5344a31215dd",
   "metadata": {},
   "outputs": [],
   "source": [
    "# PCA also lets use look at the components that are important for the projection\n",
    "# try using the features have greater magnitude\n",
    "sns.heatmap(data=pd.DataFrame(pca.components_, columns=X.columns).T,\n",
    "            vmax=1, vmin=-1, cmap=\"coolwarm\")"
   ]
  },
  {
   "cell_type": "code",
   "execution_count": null,
   "id": "2c17169a-b746-4f70-962f-e0677de48635",
   "metadata": {},
   "outputs": [],
   "source": [
    "# componets is the number of dimensions to reduce to\n",
    "n_components = 2  # change this value\n",
    "# perplexity is number of data points around to base distance measurement on\n",
    "# how does changing perplexity effect the plot?\n",
    "perplexity = 15  # change this value\n",
    "tsne = TSNE(n_components=n_components, perplexity=perplexity,\n",
    "            random_state=42, learning_rate=\"auto\").fit_transform(X)\n",
    "plt.figure(figsize=(13, 8))\n",
    "sns.scatterplot(x=tsne[:,0], y=tsne[:,1]) "
   ]
  },
  {
   "cell_type": "code",
   "execution_count": null,
   "id": "3b156b1c-1f2d-41ae-a313-8a35f0dc8b53",
   "metadata": {},
   "outputs": [],
   "source": [
    "# now let's plot it\n",
    "# try different features for the colormap\n",
    "# alcohol', 'malic_acid', 'ash', 'alcalinity_of_ash', 'magnesium',\n",
    "# 'total_phenols', 'flavanoids', 'nonflavanoid_phenols',\n",
    "# 'proanthocyanins', 'color_intensity', 'hue', \n",
    "# 'od280/od315_of_diluted_wines', 'proline'\n",
    "feature = \"ash\"  # change this value\n",
    "plt.figure(figsize=(13, 8))\n",
    "sns.scatterplot(x=tsne[:,0], y=tsne[:,1],\n",
    "                hue=df[feature],\n",
    "                palette=\"viridis\") "
   ]
  },
  {
   "cell_type": "markdown",
   "id": "26fefae8-d6ca-4940-8a0b-e0dd3bb52e9f",
   "metadata": {},
   "source": [
    "## Clustering"
   ]
  },
  {
   "cell_type": "code",
   "execution_count": null,
   "id": "8714447d-0286-4875-83d8-d6b6a0b7296f",
   "metadata": {},
   "outputs": [],
   "source": [
    "# load the new dataset\n",
    "# make sure this file path points to the glass.data dataset\n",
    "file_path = \"glass.data\"\n",
    "\n",
    "# don't change any of the code below, it loads adds feature names to the data\n",
    "cols = [\"Id\", \"refractive_index\", \"Sodium\", \"Magnesium\", \"Aluminum\", \"Silicon\",\n",
    "        \"Potassium\", \"Calcium\", \"Barium\", \"Iron\", \"glass\"]\n",
    "df_glass = pd.read_csv(file_path, names=cols)\\\n",
    "    .drop(columns=[\"Id\", \"glass\"])\n",
    "\n",
    "features = [\"refractive_index\", \"Sodium\", \"Magnesium\", \"Aluminum\",\n",
    "            \"Silicon\", \"Potassium\", \"Calcium\", \"Barium\", \"Iron\"]\n",
    "df_glass[features]"
   ]
  },
  {
   "cell_type": "code",
   "execution_count": null,
   "id": "902166b5-1b6c-488e-95be-c5357787f0fe",
   "metadata": {},
   "outputs": [],
   "source": [
    "# This code below runs multiple clustering algorithms and checks the inertia\n",
    "# and silhouette scores\n",
    "# from the plots can you determine how many clusters are in the data?\n",
    "\n",
    "sil_scores = []\n",
    "inertias = []\n",
    "X = df_glass[features]\n",
    "\n",
    "for k in range(2, 11):\n",
    "    kmeans = KMeans(n_clusters=k, random_state=42).fit(X)\n",
    "    y_km = kmeans.labels_\n",
    "    sil_scores.append(metrics.silhouette_score(X, y_km))\n",
    "    inertias.append(kmeans.inertia_)\n",
    "fig, axs = plt.subplots(2, 1, figsize=(13, 8))\n",
    "sns.lineplot(ax=axs[0], x=np.arange(2, 11), y=inertias, label=\"Inertia\")\n",
    "sns.lineplot(ax=axs[1], x=np.arange(2, 11), y=sil_scores, label=\"Silhouette\")\n",
    "plt.show()"
   ]
  },
  {
   "cell_type": "code",
   "execution_count": null,
   "id": "7c6bd70f-c467-4fac-bb0d-a09e2510732c",
   "metadata": {},
   "outputs": [],
   "source": [
    "# choose the number of clusters you think is ideal based on the plots above\n",
    "k = ??  # change this value\n",
    "kmeans = KMeans(n_clusters=k, random_state=42).fit(X)\n",
    "y_km = kmeans.labels_\n",
    "\n",
    "# this will use PCA to plot the data, don't change the code below\n",
    "# how does the plot help your assessment of the number of clusters?\n",
    "pca = PCA(n_components=2)\n",
    "X = df_glass[features]\n",
    "pca.fit(X)\n",
    "pca_emb  = pca.transform(X)\n",
    "\n",
    "plt.figure(figsize=(13, 8))\n",
    "sns.scatterplot(x=pca_emb[:,0], y=pca_emb[:,1],\n",
    "                hue=y_km,\n",
    "                palette=\"viridis\") "
   ]
  },
  {
   "cell_type": "markdown",
   "id": "1685eaf0-81a4-44d8-a7ca-07e9414fc9f7",
   "metadata": {},
   "source": [
    "## Difficulty and Subjectivity"
   ]
  },
  {
   "cell_type": "code",
   "execution_count": null,
   "id": "82fd6457-ffff-4e0e-8411-6536c7762088",
   "metadata": {},
   "outputs": [],
   "source": [
    "# we are switching back to the wine dataset\n",
    "y = df[\"target\"]\n",
    "X = df.drop(\"target\", axis=1)\n",
    "# and running the code to assess the number of k-means clusters that\n",
    "# are optimal for this dataset\n",
    "sil_scores = []\n",
    "inertias = []\n",
    "for k in range(2, 11):\n",
    "    kmeans = KMeans(n_clusters=k, random_state=42).fit(X)\n",
    "    y_km = kmeans.labels_\n",
    "    sil_scores.append(metrics.silhouette_score(X, y_km))\n",
    "    inertias.append(kmeans.inertia_)\n",
    "fig, axs = plt.subplots(2, 1, figsize=(13, 8))\n",
    "sns.lineplot(ax=axs[0], x=np.arange(2, 11), y=inertias, label=\"Inertia\")\n",
    "sns.lineplot(ax=axs[1], x=np.arange(2, 11), y=sil_scores, label=\"Silhouette\")\n",
    "plt.show()"
   ]
  },
  {
   "cell_type": "code",
   "execution_count": null,
   "id": "c90b08b8-ee68-43df-8512-7ffacd58a100",
   "metadata": {},
   "outputs": [],
   "source": [
    "# select the number of clusters that seems ideal based on the plots above\n",
    "k = ??  # change this value\n",
    "kmeans = KMeans(n_clusters=k, random_state=42).fit(X)\n",
    "y_km = kmeans.labels_\n",
    "\n",
    "pca = PCA(n_components=2)\n",
    "pca.fit(X)\n",
    "pca_emb  = pca.transform(X)\n",
    "\n",
    "plt.figure(figsize=(13, 8))\n",
    "sns.scatterplot(x=pca_emb[:,0], y=pca_emb[:,1],\n",
    "                hue=y_km,\n",
    "                palette=\"tab10\") "
   ]
  },
  {
   "cell_type": "code",
   "execution_count": null,
   "id": "b4fc1299-d6e9-4db3-bc60-8791a0549a42",
   "metadata": {},
   "outputs": [],
   "source": [
    "# run this code for the hierarchical clustering and look at the dendrogram\n",
    "# how many clusters seem ideal, and how does it compare to k-means?\n",
    "Z = linkage(X, method='ward', metric='euclidean')\n",
    "fig = plt.figure(figsize=(21, 8))\n",
    "dn = dendrogram(Z)"
   ]
  },
  {
   "cell_type": "code",
   "execution_count": null,
   "id": "240ed51a-4b50-4f29-87d8-2c979f358843",
   "metadata": {},
   "outputs": [],
   "source": [
    "# chose a distance based on the dendrogram above to cluster the data and plot\n",
    "# the results. How do the cluster results look? How do they compare to k-means?\n",
    "distance = ??  # change this value\n",
    "y_hier = fcluster(Z, distance, criterion='distance')\n",
    "plt.figure(figsize=(13, 8))\n",
    "sns.scatterplot(x=pca_emb[:,0], y=pca_emb[:,1], hue=y_hier, palette=\"tab10\") "
   ]
  },
  {
   "cell_type": "code",
   "execution_count": null,
   "id": "68c83e39-269a-4a48-afdd-06dc521ca587",
   "metadata": {},
   "outputs": [],
   "source": [
    "# for sake of completeness, let's plot the same PCA with the actual labels of\n",
    "# the dataset. How do these compare to the clusters? Does anything surprise you?\n",
    "plt.figure(figsize=(13, 8))\n",
    "sns.scatterplot(x=pca_emb[:,0], y=pca_emb[:,1], hue=df[\"target\"], palette=\"tab10\") "
   ]
  },
  {
   "cell_type": "markdown",
   "id": "7d72800c-c8ef-4a77-87e9-7120ef6d64f8",
   "metadata": {},
   "source": [
    "## Example Application"
   ]
  },
  {
   "cell_type": "code",
   "execution_count": null,
   "id": "2cb3170e-f59c-40e5-8b03-58c14075be55",
   "metadata": {},
   "outputs": [],
   "source": [
    "from sklearn.model_selection import train_test_split\n",
    "from sklearn.tree import DecisionTreeClassifier\n",
    "from sklearn.datasets import load_digits"
   ]
  },
  {
   "cell_type": "code",
   "execution_count": null,
   "id": "6c545434-c8bb-45d9-a31f-ad5fcf834812",
   "metadata": {},
   "outputs": [],
   "source": [
    "# load part of the MNIST hand written digigts dataset\n",
    "digits = load_digits()\n",
    "# dataset is 1797 images that are 8x8 pixels, or 64 features\n",
    "digits.data.shape"
   ]
  },
  {
   "cell_type": "code",
   "execution_count": null,
   "id": "38a9fb64-9af6-43e6-83e3-b4dd02cb5b48",
   "metadata": {},
   "outputs": [],
   "source": [
    "# lets take a look at the first one\n",
    "idx = 0\n",
    "print(digits.target[idx])\n",
    "plt.imshow(digits.images[idx])\n",
    "plt.show()"
   ]
  },
  {
   "cell_type": "code",
   "execution_count": null,
   "id": "a4021757-973a-41f6-a19e-a0aecfc75807",
   "metadata": {},
   "outputs": [],
   "source": [
    "# and now split into train/test splits\n",
    "X_train, X_test, y_train, y_test = train_test_split(digits.data, digits.target,\n",
    "                                                    test_size=0.33,\n",
    "                                                    random_state=42)"
   ]
  },
  {
   "cell_type": "code",
   "execution_count": null,
   "id": "78954d27-0881-4bff-b67f-f1ffd7f5ecb0",
   "metadata": {},
   "outputs": [],
   "source": [
    "model = DecisionTreeClassifier()\n",
    "model.fit(X_train, y_train)\n",
    "model.score(X_test, y_test)"
   ]
  },
  {
   "cell_type": "code",
   "execution_count": null,
   "id": "50e49ea7-00cf-45ba-a9f1-6d0a556e016c",
   "metadata": {},
   "outputs": [],
   "source": [
    "# now lets try extracting some meaningful features from the data and see how\n",
    "# a model does only trained on that\n",
    "# specifying a floating point value for PCA components will automatically\n",
    "# choose the number of features to explain that specified variance\n",
    "n_components = 0.80  # change this value\n",
    "pca = PCA(n_components=n_components)\n",
    "pca.fit(X_train)\n",
    "pca_emb  = pca.transform(X_train)\n",
    "print(pca.explained_variance_ratio_)"
   ]
  },
  {
   "cell_type": "code",
   "execution_count": null,
   "id": "2485d869-630a-4762-a878-530b0b5f5c7b",
   "metadata": {},
   "outputs": [],
   "source": [
    "# try running this cell multiple times, how do the results compare to the\n",
    "# baseline? Better? Worse? The same?\n",
    "model = DecisionTreeClassifier()\n",
    "model.fit(pca_emb, y_train)\n",
    "model.score(pca.transform(X_test), y_test)"
   ]
  },
  {
   "cell_type": "code",
   "execution_count": null,
   "id": "313ea1ef-34ac-4204-90ac-01d2b40168e0",
   "metadata": {},
   "outputs": [],
   "source": [
    "plt.imshow(pca.components_[0].reshape(8, 8))\n",
    "plt.show()"
   ]
  },
  {
   "cell_type": "code",
   "execution_count": null,
   "id": "54e15b65-a246-4809-917d-7c64e55006dc",
   "metadata": {},
   "outputs": [],
   "source": []
  }
 ],
 "metadata": {
  "kernelspec": {
   "display_name": "Python 3 (ipykernel)",
   "language": "python",
   "name": "python3"
  },
  "language_info": {
   "codemirror_mode": {
    "name": "ipython",
    "version": 3
   },
   "file_extension": ".py",
   "mimetype": "text/x-python",
   "name": "python",
   "nbconvert_exporter": "python",
   "pygments_lexer": "ipython3",
   "version": "3.8.3"
  }
 },
 "nbformat": 4,
 "nbformat_minor": 5
}
