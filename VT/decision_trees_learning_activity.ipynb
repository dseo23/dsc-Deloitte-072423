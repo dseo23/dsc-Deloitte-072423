{
 "cells": [
  {
   "cell_type": "markdown",
   "id": "b3fcce29",
   "metadata": {},
   "source": [
    "# Decision Trees Learning Activity\n",
    "This notebook implements decision trees.  It uses the Parkinsons dataset from the UCI Machine Learning Repository:\n",
    "\n",
    "https://archive.ics.uci.edu/ml/datasets/Parkinsons"
   ]
  },
  {
   "cell_type": "code",
   "execution_count": null,
   "id": "5b4cfc80",
   "metadata": {},
   "outputs": [],
   "source": [
    "import numpy as np\n",
    "import pandas as pd\n",
    "\n",
    "# plotting\n",
    "import matplotlib.pyplot as plt\n",
    "\n",
    "# sklearn\n",
    "from sklearn.model_selection import train_test_split\n",
    "from sklearn import tree\n",
    "from sklearn.metrics import accuracy_score\n",
    "from sklearn.metrics import confusion_matrix\n",
    "from sklearn.metrics import ConfusionMatrixDisplay"
   ]
  },
  {
   "cell_type": "markdown",
   "id": "74102534",
   "metadata": {},
   "source": [
    "## Data"
   ]
  },
  {
   "cell_type": "code",
   "execution_count": null,
   "id": "60074051",
   "metadata": {},
   "outputs": [],
   "source": [
    "# load parkinsons dataset\n",
    "data = pd.read_csv('parkinsons.data')\n",
    "data.drop(['name'], axis=1, inplace=True)\n",
    "y = data['status']\n",
    "X = data.drop(['status'], axis=1)\n",
    "\n",
    "X_train, X_test, y_train, y_test = train_test_split(X, y, test_size=0.33, random_state=0)\n",
    "\n",
    "X_train.reset_index(drop=True, inplace=True)\n",
    "y_train.reset_index(drop=True, inplace=True)\n",
    "X_test.reset_index(drop=True, inplace=True)\n",
    "y_test.reset_index(drop=True, inplace=True)"
   ]
  },
  {
   "cell_type": "markdown",
   "id": "e9aea5c4",
   "metadata": {},
   "source": [
    "## Original Tree"
   ]
  },
  {
   "cell_type": "code",
   "execution_count": null,
   "id": "ef76ca36",
   "metadata": {},
   "outputs": [],
   "source": [
    "orig_tree_clf = tree.DecisionTreeClassifier(random_state=0).fit(X_train, y_train)"
   ]
  },
  {
   "cell_type": "code",
   "execution_count": null,
   "id": "abcdf093",
   "metadata": {},
   "outputs": [],
   "source": [
    "print('Depth of the classification tree: ', orig_tree_clf.get_depth())"
   ]
  },
  {
   "cell_type": "code",
   "execution_count": null,
   "id": "72125184",
   "metadata": {},
   "outputs": [],
   "source": [
    "# display the tree\n",
    "fig, ax = plt.subplots(figsize=(20,20))\n",
    "tree.plot_tree(orig_tree_clf, \n",
    "               feature_names = X_test.columns, \n",
    "               class_names = ['Healthy', 'Parkinsons'],\n",
    "               filled = True,\n",
    "               fontsize = 10,\n",
    "               impurity = False,\n",
    "               ax=ax);"
   ]
  },
  {
   "cell_type": "code",
   "execution_count": null,
   "id": "c7d59a94",
   "metadata": {},
   "outputs": [],
   "source": [
    "tree_accuracy = accuracy_score(y_test, orig_tree_clf.predict(X_test))\n",
    "print('Classification accuracy: ', tree_accuracy)"
   ]
  },
  {
   "cell_type": "code",
   "execution_count": null,
   "id": "a2512923",
   "metadata": {},
   "outputs": [],
   "source": [
    "# confusion matrix\n",
    "y_pred = orig_tree_clf.predict(X_test)\n",
    "cm = confusion_matrix(y_test, y_pred)\n",
    "cm_display = ConfusionMatrixDisplay(cm, display_labels=['Healthy', 'Parkinsons'])\n",
    "fig, ax = plt.subplots(figsize=(5,5))\n",
    "cm_display.plot(ax=ax, xticks_rotation='vertical')"
   ]
  },
  {
   "cell_type": "code",
   "execution_count": null,
   "id": "76d8ec0a",
   "metadata": {},
   "outputs": [],
   "source": [
    "tree_importances = pd.Series(orig_tree_clf.feature_importances_, index=X.columns)\n",
    "fig, ax = plt.subplots(figsize=(8,8))\n",
    "tree_importances.sort_values().plot.barh(ax=ax)\n",
    "ax.set_title('Feature Importance')"
   ]
  },
  {
   "cell_type": "markdown",
   "id": "38d1c544",
   "metadata": {},
   "source": [
    "## Learning Activity 1\n",
    "\n",
    "Change the data removed from the training set and observe the response of the tree."
   ]
  },
  {
   "cell_type": "code",
   "execution_count": null,
   "id": "4f180faa",
   "metadata": {},
   "outputs": [],
   "source": [
    "# change number\n",
    "N_remove = 10\n",
    "idx_remove = np.random.randint(0, X_train.shape[0], N_remove)\n",
    "\n",
    "X_mod = X_train.drop(idx_remove).reset_index(drop=True)\n",
    "y_mod = y_train.drop(idx_remove).reset_index(drop=True)"
   ]
  },
  {
   "cell_type": "code",
   "execution_count": null,
   "id": "7f254100",
   "metadata": {},
   "outputs": [],
   "source": [
    "tree_clf = tree.DecisionTreeClassifier(random_state=0).fit(X_mod, y_mod)"
   ]
  },
  {
   "cell_type": "code",
   "execution_count": null,
   "id": "aa3546d0",
   "metadata": {},
   "outputs": [],
   "source": [
    "print('Depth of the classification tree: ', tree_clf.get_depth())"
   ]
  },
  {
   "cell_type": "code",
   "execution_count": null,
   "id": "e4640263",
   "metadata": {},
   "outputs": [],
   "source": [
    "# display the tree\n",
    "fig, ax = plt.subplots(figsize=(20,20))\n",
    "tree.plot_tree(tree_clf, \n",
    "               feature_names = X_test.columns, \n",
    "               class_names = ['Healthy', 'Parkinsons'],\n",
    "               filled = True,\n",
    "               fontsize = 10,\n",
    "               impurity = False,\n",
    "               ax=ax);"
   ]
  },
  {
   "cell_type": "markdown",
   "id": "89f518d5",
   "metadata": {},
   "source": [
    "Evaluate on test set"
   ]
  },
  {
   "cell_type": "code",
   "execution_count": null,
   "id": "9ed92928",
   "metadata": {},
   "outputs": [],
   "source": [
    "tree_accuracy = accuracy_score(y_test, tree_clf.predict(X_test))\n",
    "print('Classification accuracy: ', tree_accuracy)"
   ]
  },
  {
   "cell_type": "code",
   "execution_count": null,
   "id": "106a09e2",
   "metadata": {},
   "outputs": [],
   "source": [
    "# confusion matrix\n",
    "y_pred = tree_clf.predict(X_test)\n",
    "cm = confusion_matrix(y_test, y_pred)\n",
    "cm_display = ConfusionMatrixDisplay(cm, display_labels=['Healthy', 'Parkinsons'])\n",
    "fig, ax = plt.subplots(figsize=(5,5))\n",
    "cm_display.plot(ax=ax, xticks_rotation='vertical')"
   ]
  },
  {
   "cell_type": "markdown",
   "id": "339e8319",
   "metadata": {},
   "source": [
    "Feature Importance"
   ]
  },
  {
   "cell_type": "code",
   "execution_count": null,
   "id": "29209fac",
   "metadata": {},
   "outputs": [],
   "source": [
    "tree_importances = pd.Series(tree_clf.feature_importances_, index=X.columns)\n",
    "fig, ax = plt.subplots(figsize=(8,8))\n",
    "tree_importances.sort_values().plot.barh(ax=ax)\n",
    "ax.set_title('Feature Importance')"
   ]
  },
  {
   "cell_type": "markdown",
   "id": "397895bd",
   "metadata": {},
   "source": [
    "## Learning Activity 2\n",
    "\n",
    "Prune the tree using different values and observe the results"
   ]
  },
  {
   "cell_type": "code",
   "execution_count": null,
   "id": "08f79846",
   "metadata": {},
   "outputs": [],
   "source": [
    "alphas = tree.DecisionTreeClassifier(random_state=0).cost_complexity_pruning_path(X_train, y_train)"
   ]
  },
  {
   "cell_type": "code",
   "execution_count": null,
   "id": "bdda024e",
   "metadata": {},
   "outputs": [],
   "source": [
    "alphas"
   ]
  },
  {
   "cell_type": "code",
   "execution_count": null,
   "id": "1631c236",
   "metadata": {},
   "outputs": [],
   "source": [
    "pruned_tree = tree.DecisionTreeClassifier(random_state=0, ccp_alpha=alphas['ccp_alphas'][3]).fit(X_train, y_train)"
   ]
  },
  {
   "cell_type": "code",
   "execution_count": null,
   "id": "b76b2ffc",
   "metadata": {},
   "outputs": [],
   "source": [
    "# display pruned tree\n",
    "fig, ax = plt.subplots(figsize=(20,20))\n",
    "tree.plot_tree(pruned_tree, \n",
    "               feature_names = X_test.columns, \n",
    "               class_names = ['Healthy', 'Parkinsons'],\n",
    "               filled = True,\n",
    "               fontsize = 10,\n",
    "               impurity = False,\n",
    "               ax=ax);"
   ]
  },
  {
   "cell_type": "code",
   "execution_count": null,
   "id": "7e6879d4",
   "metadata": {},
   "outputs": [],
   "source": [
    "pruned_accuracy = accuracy_score(y_test, pruned_tree.predict(X_test))\n",
    "print('Classification accuracy: ', pruned_accuracy)"
   ]
  },
  {
   "cell_type": "code",
   "execution_count": null,
   "id": "58a2ab11",
   "metadata": {},
   "outputs": [],
   "source": [
    "# confusion matrix\n",
    "y_pred = pruned_tree.predict(X_test)\n",
    "cm = confusion_matrix(y_test, y_pred)\n",
    "cm_display = ConfusionMatrixDisplay(cm, display_labels=['Healthy', 'Parkinsons'])\n",
    "fig, ax = plt.subplots(figsize=(5,5))\n",
    "cm_display.plot(ax=ax, xticks_rotation='vertical')"
   ]
  },
  {
   "cell_type": "markdown",
   "id": "e28c1250",
   "metadata": {},
   "source": [
    "## Learning Activity 3\n",
    "\n",
    "Rerun with different train/test splits and observe the response."
   ]
  },
  {
   "cell_type": "code",
   "execution_count": null,
   "id": "bcb3e15d",
   "metadata": {},
   "outputs": [],
   "source": []
  }
 ],
 "metadata": {
  "kernelspec": {
   "display_name": "Python 3 (ipykernel)",
   "language": "python",
   "name": "python3"
  },
  "language_info": {
   "codemirror_mode": {
    "name": "ipython",
    "version": 3
   },
   "file_extension": ".py",
   "mimetype": "text/x-python",
   "name": "python",
   "nbconvert_exporter": "python",
   "pygments_lexer": "ipython3",
   "version": "3.10.10"
  }
 },
 "nbformat": 4,
 "nbformat_minor": 5
}
